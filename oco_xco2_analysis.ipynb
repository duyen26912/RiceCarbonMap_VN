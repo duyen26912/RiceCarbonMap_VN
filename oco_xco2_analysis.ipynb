{
 "cells": [
  {
   "cell_type": "markdown",
   "id": "mineral-pizza",
   "metadata": {},
   "source": [
    "# OCO-2 XCO2 Data Analysis"
   ]
  },
  {
   "cell_type": "code",
   "execution_count": 1,
   "id": "grateful-insider",
   "metadata": {},
   "outputs": [],
   "source": [
    "%reload_ext autoreload\n",
    "%autoreload 2\n",
    "%matplotlib inline"
   ]
  },
  {
   "cell_type": "code",
   "execution_count": 2,
   "id": "sound-closing",
   "metadata": {},
   "outputs": [],
   "source": [
    "import datetime\n",
    "import matplotlib.pyplot as plt\n",
    "# https://matplotlib.org/stable/gallery/style_sheets/style_sheets_reference.html\n",
    "plt.style.use('seaborn-v0_8')\n",
    "\n",
    "import numpy as np\n",
    "import os\n",
    "import os.path\n",
    "import pandas as pd\n",
    "\n",
    "from IPython.core.display import HTML\n",
    "from IPython.display import clear_output\n",
    "from IPython.core.pylabtools import figsize"
   ]
  },
  {
   "cell_type": "code",
   "execution_count": 3,
   "id": "induced-telephone",
   "metadata": {},
   "outputs": [],
   "source": [
    "from oco_tools import *"
   ]
  },
  {
   "cell_type": "code",
   "execution_count": 4,
   "id": "0016d6fd-a5ca-47be-82c3-e5d35c0847d5",
   "metadata": {},
   "outputs": [
    {
     "data": {
      "text/plain": [
       "{'lat': 'latitude',\n",
       " 'lon': 'longitude',\n",
       " 'sza': 'solar_zenith_angle',\n",
       " 'vza': 'sensor_zenith_angle',\n",
       " 'saa': 'Sounding/solar_azimuth_angle',\n",
       " 'vaa': 'Sounding/sensor_azimuth_angle',\n",
       " 'xco2': 'xco2',\n",
       " 'xco2_sigma': 'xco2_uncertainty',\n",
       " 'xco2_qual': 'xco2_quality_flag',\n",
       " 'time': 'time'}"
      ]
     },
     "execution_count": 4,
     "metadata": {},
     "output_type": "execute_result"
    }
   ],
   "source": [
    "file_dict = dict_oco2_xco2\n",
    "file_dict"
   ]
  },
  {
   "cell_type": "code",
   "execution_count": 5,
   "id": "residential-queen",
   "metadata": {},
   "outputs": [],
   "source": [
    "# which dataset\n",
    "path_files = 'C:\\\\Users\\\\ASUS\\\\Downloads\\\\oco2\\\\oco-xco2\\\\data\\\\DBSH'\n"
   ]
  },
  {
   "cell_type": "markdown",
   "id": "meaningful-kentucky",
   "metadata": {},
   "source": [
    "## Select region"
   ]
  },
  {
   "cell_type": "code",
   "execution_count": 6,
   "id": "printable-queue",
   "metadata": {},
   "outputs": [],
   "source": [
    "# NZ bounding box\n",
    "latMin = 8\n",
    "latMax = 23\n",
    "lonMin = 102\n",
    "lonMax = 109"
   ]
  },
  {
   "cell_type": "code",
   "execution_count": 7,
   "id": "speaking-marriage",
   "metadata": {},
   "outputs": [
    {
     "name": "stdout",
     "output_type": "stream",
     "text": [
      "found 94 files\n",
      "total num soundings in aoi  2477  total 15063540  % match 0.01644367791369094\n"
     ]
    }
   ],
   "source": [
    "oco2_aoi = OCO2(path_files+'\\\\*.nc4', file_dict, latMin, latMax, lonMin, lonMax)"
   ]
  },
  {
   "cell_type": "code",
   "execution_count": 8,
   "id": "insured-foundation",
   "metadata": {},
   "outputs": [],
   "source": [
    "t_unit_oco2    = \"seconds since 1970-1-1 0:0:0\"\n",
    "t_cal = u\"gregorian\"\n",
    "\n",
    "# Convert oco2 time units to a python time\n",
    "oco2_aoi.time_python  = convert_time(oco2_aoi.time, t_unit_oco2, t_cal)\n",
    "oco2_aoi.time_str = [datetime.datetime.fromisoformat(str(date)) for date in oco2_aoi.time_python]"
   ]
  },
  {
   "cell_type": "code",
   "execution_count": 9,
   "id": "aeeffc78-96ab-43ed-a0d1-a2e9426b1398",
   "metadata": {},
   "outputs": [],
   "source": [
    "# oco2_aoi.time[0] # seconds since 1970\n",
    "# oco2_aoi.time_python[0].strftime(\"%d/%m/%Y, %H:%M:%S\")\n",
    "# oco2_aoi.time_str[0]"
   ]
  },
  {
   "cell_type": "markdown",
   "id": "85029d39-3cdc-442f-b6ce-92064d28267d",
   "metadata": {},
   "source": [
    "## Timeseries"
   ]
  },
  {
   "cell_type": "code",
   "execution_count": 10,
   "id": "alien-lambda",
   "metadata": {},
   "outputs": [],
   "source": [
    "# plot a timeseries\n",
    "plt.figure(figsize=(20,6))\n",
    "plt.subplot(1,2,1)\n",
    "plt.plot(oco2_aoi.time_str, oco2_aoi.xco2,'.')\n",
    "plt.ylabel('XCO2 (ppm)')\n",
    "plt.title('VN 2024 CO2 Levels (OCO-2 XCO2)')\n",
    "plt.savefig('images/oco2-xco2-vn-2024.png')"
   ]
  },
  {
   "cell_type": "markdown",
   "id": "9d7d84c1-2ff7-43b7-8494-5983301ea6cb",
   "metadata": {},
   "source": [
    "## Histogram"
   ]
  },
  {
   "cell_type": "code",
   "execution_count": 12,
   "id": "inclusive-champagne",
   "metadata": {},
   "outputs": [],
   "source": [
    "# let us look at a histogram\n",
    "plt.figure(figsize=(10,6))\n",
    "plt.hist(oco2_aoi.xco2, 100,range=(400,415), density=True, alpha=0.5, label='XCO2 (ppm)')\n",
    "plt.title('VN 2024 CO2 Levels (OCO-2 XCO2)')\n",
    "plt.legend(loc=0)\n",
    "plt.savefig('images/oco2-xco2-vn-2024-hist.png')"
   ]
  },
  {
   "cell_type": "code",
   "execution_count": 13,
   "id": "christian-complexity",
   "metadata": {},
   "outputs": [
    {
     "name": "stdout",
     "output_type": "stream",
     "text": [
      "Standard deviation of measurement 1.3290755\n",
      "Expected standard deviation based on posteriori error 0.4757366\n"
     ]
    }
   ],
   "source": [
    "print('Standard deviation of measurement ' + str(np.std(oco2_aoi.xco2)) )\n",
    "print('Expected standard deviation based on posteriori error ' + str(np.mean(oco2_aoi.xco2_sigma)) )"
   ]
  },
  {
   "cell_type": "markdown",
   "id": "binary-nursing",
   "metadata": {},
   "source": [
    "##  Running average timeseries"
   ]
  },
  {
   "cell_type": "code",
   "execution_count": 21,
   "id": "prescription-inspector",
   "metadata": {},
   "outputs": [],
   "source": [
    "# Get data every 3 days and create a running mean of +/- 3 days:\n",
    "# Define data range to smooth on (every 3 days)\n",
    "from datetime import datetime\n",
    "dates = np.arange('2020-01', '2020-06', dtype='datetime64[3D]').astype(datetime)"
   ]
  },
  {
   "cell_type": "code",
   "execution_count": 22,
   "id": "509f1746-4e28-405a-9b14-d80159f22ba5",
   "metadata": {},
   "outputs": [
    {
     "data": {
      "text/plain": [
       "51"
      ]
     },
     "execution_count": 22,
     "metadata": {},
     "output_type": "execute_result"
    }
   ],
   "source": [
    "len(dates)"
   ]
  },
  {
   "cell_type": "code",
   "execution_count": 23,
   "id": "geological-network",
   "metadata": {},
   "outputs": [],
   "source": [
    "# Use dates with a 3 day time-step and now use a +/- 3 day filter for the running mean:\n",
    "timeseries_oco2 = running_mean(oco2_aoi.time_str, oco2_aoi.xco2, dates, 3)"
   ]
  },
  {
   "cell_type": "code",
   "execution_count": 24,
   "id": "facial-identity",
   "metadata": {},
   "outputs": [],
   "source": [
    "plt.figure(figsize=(15,6))\n",
    "plt.errorbar(dates, timeseries_oco2.mean,yerr=timeseries_oco2.standard_error, label='OCO-2 XCO2 Mean')\n",
    "plt.ylabel('XCO2 (ppm)')\n",
    "plt.legend(loc=0)\n",
    "plt.title('VN 2020 CO2 Levels (OCO-2 XCO2) +/-3 day running mean')\n",
    "plt.savefig('images/oco2-xco2-vn-2020-ravg.png')"
   ]
  },
  {
   "cell_type": "markdown",
   "id": "usual-carnival",
   "metadata": {},
   "source": [
    "# fin"
   ]
  }
 ],
 "metadata": {
  "kernelspec": {
   "display_name": "base",
   "language": "python",
   "name": "python3"
  },
  "language_info": {
   "codemirror_mode": {
    "name": "ipython",
    "version": 3
   },
   "file_extension": ".py",
   "mimetype": "text/x-python",
   "name": "python",
   "nbconvert_exporter": "python",
   "pygments_lexer": "ipython3",
   "version": "3.12.3"
  }
 },
 "nbformat": 4,
 "nbformat_minor": 5
}
