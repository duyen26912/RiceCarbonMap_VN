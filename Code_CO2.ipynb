{
 "cells": [
  {
   "cell_type": "code",
   "execution_count": 1,
   "metadata": {},
   "outputs": [],
   "source": [
    "\n",
    "import xarray as xr\n",
    "import pandas as pd\n",
    "import glob\n",
    "import os\n",
    "import geopandas as gpd\n",
    "from shapely.geometry import Point"
   ]
  },
  {
   "cell_type": "markdown",
   "metadata": {},
   "source": [
    "# Gộp dữ liệu nc4 vào file csv"
   ]
  },
  {
   "cell_type": "code",
   "execution_count": 2,
   "metadata": {},
   "outputs": [
    {
     "name": "stdout",
     "output_type": "stream",
     "text": [
      "Xuất dữ liệu thành công ra CO2_all_2023.csv!\n",
      "Tổng số file đã xử lý: 149\n",
      "Tổng số dòng dữ liệu: 23081205\n"
     ]
    }
   ],
   "source": [
    "\n",
    "# Đường dẫn đến thư mục chứa các file .nc4\n",
    "folder_path = \"E:\\\\Downloads\\\\oco2\\\\oco-xco2\\\\data\\\\DBSH_2023\\\\*.nc4\"\n",
    "\n",
    "# Lấy danh sách tất cả các file .nc4\n",
    "file_list = glob.glob(folder_path)\n",
    "\n",
    "# Danh sách lưu DataFrame từ mỗi file\n",
    "df_list = []\n",
    "\n",
    "for file in file_list:\n",
    "    # Trích xuất ngày từ tên file\n",
    "    filename = os.path.basename(file)\n",
    "\n",
    "    # Tách phần ngày từ tên file (vị trí thứ 2 khi split bằng _)\n",
    "    date_str = filename.split('_')[2]\n",
    "\n",
    "    # Chuyển đổi định dạng ngày (240921 -> 2024-09-21)\n",
    "    full_date = f\"20{date_str[:2]}-{date_str[2:4]}-{date_str[4:6]}\"\n",
    "\n",
    "    ds = xr.open_dataset(file)\n",
    "\n",
    "    # Chuyển đổi dữ liệu thành Pandas DataFrame\n",
    "    df = pd.DataFrame({\n",
    "        \"file_date\": full_date,  # Thêm ngày từ tên file\n",
    "        \"latitude\": ds[\"latitude\"].values,\n",
    "        \"longitude\": ds[\"longitude\"].values,\n",
    "        \"time\": ds[\"time\"].values,\n",
    "        \"xco2\": ds[\"xco2\"].values\n",
    "    })\n",
    "\n",
    "    df_list.append(df)\n",
    "\n",
    "# Gộp tất cả dữ liệu lại thành một DataFrame lớn\n",
    "df_final = pd.concat(df_list, ignore_index=True)\n",
    "\n",
    "# Lưu ra file CSV chung\n",
    "df_final.to_csv(\"CO2_all_2023.csv\", index=False)\n",
    "\n",
    "print(\"Xuất dữ liệu thành công ra CO2_all_2023.csv!\")\n",
    "print(f\"Tổng số file đã xử lý: {len(file_list)}\")\n",
    "print(f\"Tổng số dòng dữ liệu: {len(df_final)}\")\n"
   ]
  },
  {
   "cell_type": "markdown",
   "metadata": {},
   "source": [
    "# Xuất dữ liệu CO2 từ file CO2_all lọc theo ranh giới VietNam sang file CO2_vietnam"
   ]
  },
  {
   "cell_type": "code",
   "execution_count": 3,
   "metadata": {},
   "outputs": [
    {
     "name": "stdout",
     "output_type": "stream",
     "text": [
      "Xuất file CO2_vietnam_2023.csv thành công!\n"
     ]
    }
   ],
   "source": [
    "\n",
    "# Đọc file CSV chứa tọa độ các điểm trong khu vực Việt Nam\n",
    "df = pd.read_csv(\"CO2_all_2023.csv\")\n",
    "\n",
    "# Đọc shapefile biên giới đất liền Việt Nam\n",
    "shapefile_path = r\"E:\\Downloads\\oco2\\oco-xco2\\VNM_adm\\VNM_adm0.shp\"\n",
    "gdf_vietnam = gpd.read_file(shapefile_path)\n",
    "\n",
    "# Chuyển hệ tọa độ shapefile về EPSG:4326 nếu chưa đúng\n",
    "if gdf_vietnam.crs != \"EPSG:4326\":\n",
    "    gdf_vietnam = gdf_vietnam.to_crs(epsg=4326)\n",
    "\n",
    "# Chuyển DataFrame thành GeoDataFrame\n",
    "geometry = [Point(xy) for xy in zip(df[\"longitude\"], df[\"latitude\"])]\n",
    "gdf = gpd.GeoDataFrame(df, geometry=geometry, crs=\"EPSG:4326\")\n",
    "\n",
    "# Lọc sơ bộ theo bounding box của Việt Nam\n",
    "min_lon, min_lat, max_lon, max_lat = gdf_vietnam.total_bounds\n",
    "gdf = gdf[(gdf[\"longitude\"] >= min_lon) & (gdf[\"longitude\"] <= max_lon) &\n",
    "          (gdf[\"latitude\"] >= min_lat) & (gdf[\"latitude\"] <= max_lat)]\n",
    "\n",
    "# Dùng sjoin để kiểm tra điểm có nằm trong đất liền không\n",
    "gdf_land = gpd.sjoin(gdf, gdf_vietnam, predicate=\"within\", how=\"inner\")\n",
    "\n",
    "# Xuất ra CSV (loại bỏ các cột không cần thiết)\n",
    "gdf_land.drop(columns=[\"geometry\", \"index_right\"], errors=\"ignore\").to_csv(\n",
    "    \"CO2_vietnam_2023.csv\", index=False)\n",
    "\n",
    "print(\"Xuất file CO2_vietnam_2023.csv thành công!\")\n"
   ]
  },
  {
   "cell_type": "markdown",
   "metadata": {},
   "source": [
    "# Xuất dữ liệu CO2 từ file CO2_vietnam lọc theo ranh giới DBSH sang file CO2_DBSH"
   ]
  },
  {
   "cell_type": "code",
   "execution_count": 4,
   "metadata": {},
   "outputs": [
    {
     "name": "stdout",
     "output_type": "stream",
     "text": [
      "Xuất file CO2_DBSH_2023.csv thành công!\n"
     ]
    }
   ],
   "source": [
    "# Đọc file CSV chứa tọa độ các điểm trong khu vực Việt Nam\n",
    "df = pd.read_csv(\"CO2_vietnam_2023.csv\")\n",
    "\n",
    "# Đọc shapefile biên giới đất liền Việt Nam\n",
    "shapefile_path = r\"E:\\Downloads\\oco2\\oco-xco2\\ranhGioi_DBSH\\dbsh_clip.shp\"\n",
    "gdf_vietnam = gpd.read_file(shapefile_path)\n",
    "\n",
    "# Chuyển hệ tọa độ shapefile về EPSG:4326 nếu chưa đúng\n",
    "if gdf_vietnam.crs != \"EPSG:4326\":\n",
    "    gdf_vietnam = gdf_vietnam.to_crs(epsg=4326)\n",
    "\n",
    "# Chuyển DataFrame thành GeoDataFrame\n",
    "geometry = [Point(xy) for xy in zip(df[\"longitude\"], df[\"latitude\"])]\n",
    "gdf = gpd.GeoDataFrame(df, geometry=geometry, crs=\"EPSG:4326\")\n",
    "\n",
    "# Lọc sơ bộ theo bounding box của Việt Nam\n",
    "min_lon, min_lat, max_lon, max_lat = gdf_vietnam.total_bounds\n",
    "gdf = gdf[(gdf[\"longitude\"] >= min_lon) & (gdf[\"longitude\"] <= max_lon) &\n",
    "          (gdf[\"latitude\"] >= min_lat) & (gdf[\"latitude\"] <= max_lat)]\n",
    "\n",
    "# Dùng sjoin để kiểm tra điểm có nằm trong đất liền không\n",
    "gdf_land = gpd.sjoin(gdf, gdf_vietnam, predicate=\"within\", how=\"inner\")\n",
    "\n",
    "# Xuất ra CSV (loại bỏ các cột không cần thiết)\n",
    "gdf_land.drop(columns=[\"geometry\", \"index_right\"], errors=\"ignore\").to_csv(\n",
    "    \"CO2_DBSH_2023.csv\", index=False)\n",
    "\n",
    "print(\"Xuất file CO2_DBSH_2023.csv thành công!\")\n"
   ]
  }
 ],
 "metadata": {
  "kernelspec": {
   "display_name": "Python 3.12.3 ('base')",
   "language": "python",
   "name": "python3"
  },
  "language_info": {
   "codemirror_mode": {
    "name": "ipython",
    "version": 3
   },
   "file_extension": ".py",
   "mimetype": "text/x-python",
   "name": "python",
   "nbconvert_exporter": "python",
   "pygments_lexer": "ipython3",
   "version": "3.12.3"
  },
  "orig_nbformat": 4,
  "vscode": {
   "interpreter": {
    "hash": "bc30f45a0ee3bb283605bb62d26dc81a10ff7c6c6d220b9edda588a614f8ccf9"
   }
  }
 },
 "nbformat": 4,
 "nbformat_minor": 2
}
